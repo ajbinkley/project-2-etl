{
 "cells": [
  {
   "cell_type": "code",
   "execution_count": null,
   "metadata": {},
   "outputs": [],
   "source": [
    "from splinter import Browser\n",
    "from bs4 import BeautifulSoup\n",
    "import requests\n",
    "\n",
    "import json\n",
    "from pprint import pprint\n",
    "\n",
    "from config import nyt_api_key\n",
    "\n",
    "import pandas as pd\n",
    "\n",
    "from sqlalchemy import create_engine\n",
    "import pymysql"
   ]
  },
  {
   "cell_type": "code",
   "execution_count": null,
   "metadata": {},
   "outputs": [],
   "source": [
    "movies = [\"War\", \"Dog\", \"Money\", \"Games\", \"Love\", \"Car\", \"Future\", \"Girls\", \"Tomorrow\", \"Nine\"]\n",
    "url = 'http://www.omdbapi.com/?apikey=f6f49e7d&s='\n",
    "\n",
    "\n",
    "movie_title = [];\n",
    "year = [];\n",
    "imdbID = [];\n",
    "\n",
    "\n",
    "for movie in movies:\n",
    "    for i in range(1,11):\n",
    "        \n",
    "        movie_data = requests.get(url + movie + \"&page=\" + str(i)).json()\n",
    "\n",
    "        for x in range(10):\n",
    "\n",
    "            movie_title.append(movie_data['Search'][x]['Title'])\n",
    "            year.append(movie_data['Search'][x]['Year'])\n",
    "            imdbID.append(movie_data['Search'][x]['imdbID'])"
   ]
  },
  {
   "cell_type": "code",
   "execution_count": null,
   "metadata": {},
   "outputs": [],
   "source": [
    "movies_df = pd.DataFrame({\n",
    "    \"title_omdb\": movie_title,\n",
    "    \"omdb_year\": year,\n",
    "    \"omdb_id\": imdbID\n",
    "})\n",
    "\n",
    "movies_df = movies_df.reset_index().rename(columns={'index':'id'})\n",
    "\n",
    "movies_df.head()"
   ]
  },
  {
   "cell_type": "code",
   "execution_count": null,
   "metadata": {},
   "outputs": [],
   "source": [
    "url = \"https://api.nytimes.com/svc/movies/v2/reviews/search.json?\""
   ]
  },
  {
   "cell_type": "code",
   "execution_count": null,
   "metadata": {},
   "outputs": [],
   "source": [
    "encoded_omdb_movies = []\n",
    "\n",
    "for i in range(0, len(movies_df['title_omdb'])):\n",
    "    encoded_omdb_movies.append('%27' + movies_df['title_omdb'][i].replace(' ','%20') + '%27')"
   ]
  },
  {
   "cell_type": "code",
   "execution_count": null,
   "metadata": {},
   "outputs": [],
   "source": [
    "title_nyt = []\n",
    "byline_nyt = []\n",
    "open_date_nyt = []\n",
    "\n",
    "for encode in encoded_omdb_movies:\n",
    "    try:\n",
    "        query_url = url + \"api-key=\" + nyt_api_key + \"&query=\" + encode\n",
    "        review = requests.get(query_url).json()\n",
    "        title_nyt.append(review['results'][0]['display_title'])\n",
    "        byline_nyt.append(review['results'][0]['byline'])\n",
    "        open_date_nyt.append(review['results'][0]['opening_date'])\n",
    "    \n",
    "    except (IndexError, KeyError) as e:\n",
    "        title_nyt.append('Not found')\n",
    "        byline_nyt.append('Not found')\n",
    "        open_date_nyt.append('Not found')"
   ]
  },
  {
   "cell_type": "code",
   "execution_count": null,
   "metadata": {},
   "outputs": [],
   "source": [
    "nyt_dict = {\n",
    "    'title_nyt': title_nyt,\n",
    "    'byline_nyt': byline_nyt,\n",
    "    'open_date_nyt': open_date_nyt\n",
    "}"
   ]
  },
  {
   "cell_type": "code",
   "execution_count": null,
   "metadata": {
    "scrolled": true
   },
   "outputs": [],
   "source": [
    "nyt_df = pd.DataFrame(nyt_dict)\n",
    "nyt_df = nyt_df.reset_index().rename(columns={'index':'id'})"
   ]
  },
  {
   "cell_type": "code",
   "execution_count": null,
   "metadata": {},
   "outputs": [],
   "source": [
    "nyt_df.head()"
   ]
  },
  {
   "cell_type": "code",
   "execution_count": null,
   "metadata": {},
   "outputs": [],
   "source": [
    "pymysql.install_as_MySQLdb()"
   ]
  },
  {
   "cell_type": "code",
   "execution_count": null,
   "metadata": {},
   "outputs": [],
   "source": [
    "rds_connection_string = \"root:Hoosier36#^@127.0.0.1/movie_data_db\"\n",
    "engine = create_engine(f'mysql://{rds_connection_string}')"
   ]
  },
  {
   "cell_type": "code",
   "execution_count": null,
   "metadata": {},
   "outputs": [],
   "source": [
    "engine.table_names()"
   ]
  },
  {
   "cell_type": "code",
   "execution_count": null,
   "metadata": {},
   "outputs": [],
   "source": [
    "nyt_df.to_sql(name='nyt', con=engine, if_exists='append', index=False)"
   ]
  },
  {
   "cell_type": "code",
   "execution_count": null,
   "metadata": {},
   "outputs": [],
   "source": [
    "movies_df.to_sql(name='omdb', con=engine, if_exists='append', index=False)"
   ]
  }
 ],
 "metadata": {
  "kernelspec": {
   "display_name": "Python 3",
   "language": "python",
   "name": "python3"
  },
  "language_info": {
   "codemirror_mode": {
    "name": "ipython",
    "version": 3
   },
   "file_extension": ".py",
   "mimetype": "text/x-python",
   "name": "python",
   "nbconvert_exporter": "python",
   "pygments_lexer": "ipython3",
   "version": "3.6.5"
  }
 },
 "nbformat": 4,
 "nbformat_minor": 2
}
